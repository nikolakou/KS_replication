{
 "cells": [
  {
   "cell_type": "code",
   "execution_count": 1,
   "metadata": {},
   "outputs": [],
   "source": [
    "#= Krussel-Smith using sequence-space Jacobian.\n",
    "\n",
    "Code will have three parts:\n",
    "\n",
    "(a) Decompose model into blocks. Same as KS example in Auclert et al., but with endogenous labour supply.\n",
    "\n",
    "(b) Finding steady-state values of KS (no calibration). Need to translate ks_ss into julia and add labour supply choice.\n",
    "\n",
    "(c) Accumulating Jacobians. In principle straightforward once we have done everything else. Need to get 300x300 matrices\n",
    "Jacobians of each output with respect to each input. For example: in firm block, need matrix of how \"w\" and \"r\" change\n",
    "with respect to \"Z\", \"K\", and \"L\". Store these in dictionary.\n",
    "\n",
    "Extra: depending on how things go, can add calibration step, estimation step, or non-linear dynamics. For more complicated\n",
    "models, can supply jacobian of \"hetblock\" to SHADE code directly in dictionary form and let their code do the accumulation\n",
    "automatically.\n",
    "\n",
    "Can use parameters from Krussel-Smith parameters in code. Other parameter would be elasticity \"v\" and disutility \"ϕ\" of labour.\n",
    "Can use something reasonable.\n",
    "\n",
    "=#"
   ]
  }
 ],
 "metadata": {
  "kernelspec": {
   "display_name": "Julia 1.5.2",
   "language": "julia",
   "name": "julia-1.5"
  },
  "language_info": {
   "file_extension": ".jl",
   "mimetype": "application/julia",
   "name": "julia",
   "version": "1.5.2"
  }
 },
 "nbformat": 4,
 "nbformat_minor": 2
}
