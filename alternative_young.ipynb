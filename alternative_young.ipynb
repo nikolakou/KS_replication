{
 "cells": [
  {
   "cell_type": "code",
   "execution_count": 38,
   "metadata": {},
   "outputs": [
    {
     "ename": "LoadError",
     "evalue": "UndefVarError: param not defined",
     "output_type": "error",
     "traceback": [
      "UndefVarError: param not defined",
      "",
      "Stacktrace:",
      " [1] top-level scope at In[38]:4",
      " [2] include_string(::Function, ::Module, ::String, ::String) at .\\loading.jl:1091",
      " [3] execute_code(::String, ::String) at C:\\Users\\gniko\\.julia\\packages\\IJulia\\rWZ9e\\src\\execute_request.jl:27",
      " [4] execute_request(::ZMQ.Socket, ::IJulia.Msg) at C:\\Users\\gniko\\.julia\\packages\\IJulia\\rWZ9e\\src\\execute_request.jl:86",
      " [5] #invokelatest#1 at .\\essentials.jl:710 [inlined]",
      " [6] invokelatest at .\\essentials.jl:709 [inlined]",
      " [7] eventloop(::ZMQ.Socket) at C:\\Users\\gniko\\.julia\\packages\\IJulia\\rWZ9e\\src\\eventloop.jl:8",
      " [8] (::IJulia.var\"#15#18\")() at .\\task.jl:356"
     ]
    }
   ],
   "source": [
    "#redo transition function so its less ugly\n",
    "let\n",
    "\n",
    "A = param.Amat\n",
    "\n",
    "C = policyfun\n",
    "\n",
    "function sortdown(A,a)\n",
    " y = searchsortedlast(A,a)\n",
    "    if y == 0\n",
    "        return 1\n",
    "    else\n",
    "        return y\n",
    "    end\n",
    "end\n",
    "\n",
    "function sortup(A,a)\n",
    "   y = searchsortedfirst(A,a)\n",
    "    if y > 500\n",
    "        return 500\n",
    "    else\n",
    "        return y\n",
    "    end\n",
    "end\n",
    "\n",
    "P = zeros(500,500,7)\n",
    "\n",
    "for j=1:7\n",
    "    for i=1:500\n",
    "        ind_l = sortdown(A[:,j],C[i,j])\n",
    "        ind_h = sortup(A[:,j],C[i,j])\n",
    "        if ind_l == ind_h   \n",
    "            P[i,ind_l,j] = 1\n",
    "        else\n",
    "            P[i,ind_l,j] = (A[ind_h,j] - C[i,j])/(A[ind_h,j] - A[ind_l,j])\n",
    "            P[i,ind_h,j] = 1-P[i,ind_l,j]\n",
    "        end\n",
    "    end\n",
    "end\n",
    "\n",
    "trans = param.P_trans\n",
    "\n",
    "markov = zeros(500*7,500*7)\n",
    "\n",
    "for j=1:7\n",
    "    for i=1:7\n",
    "        markov[500*(i-1)+1:500*i,500*(j-1)+1:500*j] = P[:,:,i].*trans[i,j] \n",
    "    end\n",
    "end\n",
    "\n",
    "# ind_l = sortdown(A[:,1],C[1,1])\n",
    "#     ind_h = sortup(A[:,1],C[1,1])\n",
    "#         if ind_l == ind_h   \n",
    "#             P[1,ind_l,1] = 1\n",
    "#     end\n",
    "\n",
    "T == markov\n",
    "    \n",
    "end\n"
   ]
  },
  {
   "cell_type": "code",
   "execution_count": 17,
   "metadata": {},
   "outputs": [
    {
     "data": {
      "text/plain": [
       "40.0"
      ]
     },
     "execution_count": 17,
     "metadata": {},
     "output_type": "execute_result"
    }
   ],
   "source": [
    "using Interpolations\n",
    "\n",
    "A = [1; 40 ]\n",
    "\n",
    "itp = interpolate(A,BSpline(Linear()))\n",
    "\n",
    "itp(2)"
   ]
  }
 ],
 "metadata": {
  "kernelspec": {
   "display_name": "Julia 1.5.2",
   "language": "julia",
   "name": "julia-1.5"
  },
  "language_info": {
   "file_extension": ".jl",
   "mimetype": "application/julia",
   "name": "julia",
   "version": "1.5.2"
  }
 },
 "nbformat": 4,
 "nbformat_minor": 2
}
